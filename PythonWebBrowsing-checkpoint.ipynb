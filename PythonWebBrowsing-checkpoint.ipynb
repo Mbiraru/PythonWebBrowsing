{
 "cells": [
  {
   "cell_type": "code",
   "execution_count": 1,
   "id": "85855c31",
   "metadata": {},
   "outputs": [],
   "source": [
    "import webbrowser"
   ]
  },
  {
   "cell_type": "code",
   "execution_count": 2,
   "id": "efd53222",
   "metadata": {},
   "outputs": [
    {
     "name": "stdout",
     "output_type": "stream",
     "text": [
      "Enter a url : https://youtube.com/\n"
     ]
    },
    {
     "data": {
      "text/plain": [
       "True"
      ]
     },
     "execution_count": 2,
     "metadata": {},
     "output_type": "execute_result"
    }
   ],
   "source": [
    "Url=input(\"Enter a url : \")\n",
    "webbrowser.open(Url)\n",
    "\n",
    "#Open the page in a new browser window\n",
    "webbrowser.open_new('Url')\n",
    "\n",
    "#Open the page in a new browser tab\n",
    "webbrowser.open_new_tab('Url')"
   ]
  }
 ],
 "metadata": {
  "kernelspec": {
   "display_name": "Python 3",
   "language": "python",
   "name": "python3"
  },
  "language_info": {
   "codemirror_mode": {
    "name": "ipython",
    "version": 3
   },
   "file_extension": ".py",
   "mimetype": "text/x-python",
   "name": "python",
   "nbconvert_exporter": "python",
   "pygments_lexer": "ipython3",
   "version": "3.8.8"
  }
 },
 "nbformat": 4,
 "nbformat_minor": 5
}
